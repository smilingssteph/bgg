{
 "cells": [
  {
   "cell_type": "markdown",
   "metadata": {},
   "source": [
    "# Scraping Data from BGG"
   ]
  },
  {
   "cell_type": "code",
   "execution_count": 12,
   "metadata": {},
   "outputs": [],
   "source": [
    "import requests\n",
    "import xml.etree.ElementTree as ET"
   ]
  },
  {
   "cell_type": "code",
   "execution_count": 180,
   "metadata": {},
   "outputs": [
    {
     "data": {
      "text/plain": [
       "200"
      ]
     },
     "execution_count": 180,
     "metadata": {},
     "output_type": "execute_result"
    }
   ],
   "source": [
    "response = requests.get('https://boardgamegeek.com/xmlapi/boardgame/1')\n",
    "response.status_code"
   ]
  },
  {
   "cell_type": "markdown",
   "metadata": {},
   "source": [
    "### Writing a function to parse through XML file"
   ]
  },
  {
   "cell_type": "code",
   "execution_count": 181,
   "metadata": {
    "scrolled": true
   },
   "outputs": [],
   "source": [
    "def poll_num_players(xml):\n",
    "    \"\"\"\n",
    "    Returns the results of the community poll asking \"how many players do you recommend for this game?\"\n",
    "    \n",
    "    Parameters:\n",
    "        xml (bytes): The content of an xml file.\n",
    "    \n",
    "    Returns:\n",
    "        dict: Number of votes for each player count.\n",
    "    \"\"\"\n",
    "    \n",
    "    poll_results = dict()    \n",
    "    for poll in xml.findall(\".//poll[@name='suggested_numplayers']\"):\n",
    "        responses = poll.findall('results')\n",
    "        for resp in responses:\n",
    "            num_players = resp.attrib['numplayers'] \n",
    "            votes_int = [i.attrib for i in resp.findall('result')]\n",
    "            votes = [int(i['numvotes']) for i in votes_int]\n",
    "            poll_results[num_players] = votes\n",
    "    return poll_results"
   ]
  },
  {
   "cell_type": "code",
   "execution_count": 185,
   "metadata": {},
   "outputs": [],
   "source": [
    "def community_num_players(poll):\n",
    "    \"\"\"\"\n",
    "    Returns the community-recommended range of number of players.\n",
    "    \n",
    "    Paramaters:\n",
    "        poll (dict): A dictionary with the poll results.\n",
    "        \n",
    "    Returns:\n",
    "        list: A list with all the number of players the game is recommended for.\n",
    "    \"\"\"\n",
    "    \n",
    "    rec = list()\n",
    "    for key,item in poll.items():\n",
    "        percentages = [i/sum(item) for i in item]\n",
    "        if percentages[0] >= 0.5 or percentages[1] >= 0.5:\n",
    "            rec.append(key)\n",
    "    return rec"
   ]
  },
  {
   "cell_type": "code",
   "execution_count": 186,
   "metadata": {
    "scrolled": true
   },
   "outputs": [
    {
     "data": {
      "text/plain": [
       "['4', '5']"
      ]
     },
     "execution_count": 186,
     "metadata": {},
     "output_type": "execute_result"
    }
   ],
   "source": [
    "#testing \n",
    "\n",
    "root = ET.fromstring(response.content)\n",
    "\n",
    "a = poll_num_players(root)\n",
    "community_num_players(a)"
   ]
  }
 ],
 "metadata": {
  "kernelspec": {
   "display_name": "Python 3",
   "language": "python",
   "name": "python3"
  },
  "language_info": {
   "codemirror_mode": {
    "name": "ipython",
    "version": 3
   },
   "file_extension": ".py",
   "mimetype": "text/x-python",
   "name": "python",
   "nbconvert_exporter": "python",
   "pygments_lexer": "ipython3",
   "version": "3.8.5"
  }
 },
 "nbformat": 4,
 "nbformat_minor": 4
}
