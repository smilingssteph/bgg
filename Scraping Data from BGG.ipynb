{
 "cells": [
  {
   "cell_type": "markdown",
   "metadata": {},
   "source": [
    "# Scraping Data from BGG"
   ]
  },
  {
   "cell_type": "code",
   "execution_count": 12,
   "metadata": {},
   "outputs": [],
   "source": [
    "import requests\n",
    "import xml.etree.ElementTree as ET"
   ]
  },
  {
   "cell_type": "code",
   "execution_count": 58,
   "metadata": {},
   "outputs": [
    {
     "data": {
      "text/plain": [
       "bytes"
      ]
     },
     "execution_count": 58,
     "metadata": {},
     "output_type": "execute_result"
    }
   ],
   "source": [
    "response = requests.get('https://boardgamegeek.com/xmlapi/boardgame/1')\n",
    "response.status_code"
   ]
  },
  {
   "cell_type": "markdown",
   "metadata": {},
   "source": [
    "### Writing a function to parse through XML file"
   ]
  },
  {
   "cell_type": "code",
   "execution_count": 56,
   "metadata": {
    "scrolled": true
   },
   "outputs": [
    {
     "name": "stdout",
     "output_type": "stream",
     "text": [
      "1986\n"
     ]
    }
   ],
   "source": [
    "def poll_num_players(xml):\n",
    "    \"\"\"\n",
    "    Returns the results of the community poll asking \"how many players do you recommend for this game?\"\n",
    "    \n",
    "    Parameters:\n",
    "        xml (bytes): The content of an xml file.\n",
    "    \n",
    "    Returns:\n",
    "        dict: Number of votes for each player count\n",
    "    \"\"\"\n",
    "    \n",
    "    "
   ]
  },
  {
   "cell_type": "code",
   "execution_count": 83,
   "metadata": {},
   "outputs": [
    {
     "name": "stdout",
     "output_type": "stream",
     "text": [
      "[{'value': 'Best', 'numvotes': '0'}, {'value': 'Recommended', 'numvotes': '1'}, {'value': 'Not Recommended', 'numvotes': '84'}]\n",
      "[{'value': 'Best', 'numvotes': '0'}, {'value': 'Recommended', 'numvotes': '1'}, {'value': 'Not Recommended', 'numvotes': '86'}]\n",
      "[{'value': 'Best', 'numvotes': '2'}, {'value': 'Recommended', 'numvotes': '26'}, {'value': 'Not Recommended', 'numvotes': '75'}]\n",
      "[{'value': 'Best', 'numvotes': '26'}, {'value': 'Recommended', 'numvotes': '85'}, {'value': 'Not Recommended', 'numvotes': '9'}]\n",
      "[{'value': 'Best', 'numvotes': '113'}, {'value': 'Recommended', 'numvotes': '12'}, {'value': 'Not Recommended', 'numvotes': '2'}]\n",
      "[{'value': 'Best', 'numvotes': '1'}, {'value': 'Recommended', 'numvotes': '0'}, {'value': 'Not Recommended', 'numvotes': '61'}]\n"
     ]
    }
   ],
   "source": [
    "root = ET.fromstring(response.content)\n",
    "\n",
    "poll_results = {}\n",
    "for poll in root.findall(\".//poll[@name='suggested_numplayers']\"):\n",
    "    responses = poll.findall('results')\n",
    "    for resp in responses:\n",
    "        num_players = resp.attrib['numplayers'] \n",
    "        votes = [i.attrib for i in resp.findall('result')]\n",
    "        print(votes)"
   ]
  }
 ],
 "metadata": {
  "kernelspec": {
   "display_name": "Python 3",
   "language": "python",
   "name": "python3"
  },
  "language_info": {
   "codemirror_mode": {
    "name": "ipython",
    "version": 3
   },
   "file_extension": ".py",
   "mimetype": "text/x-python",
   "name": "python",
   "nbconvert_exporter": "python",
   "pygments_lexer": "ipython3",
   "version": "3.8.5"
  }
 },
 "nbformat": 4,
 "nbformat_minor": 4
}
