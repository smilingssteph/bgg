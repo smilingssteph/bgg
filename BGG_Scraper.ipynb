{
 "cells": [
  {
   "cell_type": "markdown",
   "metadata": {},
   "source": [
    "# Scraping Data from BGG"
   ]
  },
  {
   "cell_type": "code",
   "execution_count": 2,
   "metadata": {},
   "outputs": [],
   "source": [
    "import requests\n",
    "import xml.etree.ElementTree as ET"
   ]
  },
  {
   "cell_type": "code",
   "execution_count": 58,
   "metadata": {},
   "outputs": [
    {
     "data": {
      "text/plain": [
       "200"
      ]
     },
     "execution_count": 58,
     "metadata": {},
     "output_type": "execute_result"
    }
   ],
   "source": [
    "x = requests.get('https://boardgamegeek.com/xmlapi/boardgame/5332')\n",
    "x.status_code"
   ]
  },
  {
   "cell_type": "markdown",
   "metadata": {},
   "source": [
    "### Writing a function to parse through XML file"
   ]
  },
  {
   "cell_type": "code",
   "execution_count": 46,
   "metadata": {},
   "outputs": [],
   "source": [
    "def num_players(xml):\n",
    "    \"\"\"\"\n",
    "    Returns the community-recommended range of number of players.\n",
    "    \n",
    "    Paramaters:\n",
    "        poll (bytes): The content of an xml file.\n",
    "        \n",
    "    Returns:\n",
    "        list: A list with all the number of players the game is recommended for.\n",
    "    \"\"\"\n",
    "    \n",
    "    poll_results = dict()    \n",
    "    for poll in xml.findall(\".//poll[@name='suggested_numplayers']\"):\n",
    "        responses = poll.findall('results')\n",
    "        for resp in responses:\n",
    "            num_players = resp.attrib['numplayers'] \n",
    "            votes_int = [i.attrib for i in resp.findall('result')]\n",
    "            votes = [int(i['numvotes']) for i in votes_int]\n",
    "            poll_results[num_players] = votes\n",
    "    \n",
    "    rec = list()\n",
    "    \n",
    "    for key,item in poll_results.items():\n",
    "        if sum(item) != 0:\n",
    "            percentages = [i/sum(item) for i in item]\n",
    "            if percentages[0] >= 0.5 or percentages[1] >= 0.5:\n",
    "                rec.append(key)\n",
    "            \n",
    "    return rec"
   ]
  },
  {
   "cell_type": "code",
   "execution_count": 56,
   "metadata": {},
   "outputs": [],
   "source": [
    "def player_age(xml):\n",
    "    \"\"\"\n",
    "    Returns the results of the community poll asking \"for those who do not speak the language in which this game is published, \n",
    "    how language-dependent are the components?\"\n",
    "    \n",
    "    Parameters:\n",
    "        xml (bytes): The content of an xml file.\n",
    "    \n",
    "    Returns:\n",
    "        dict: Number of votes for each player count.\n",
    "    \"\"\"\n",
    "    \n",
    "    poll_results = dict()\n",
    "    responses = xml.findall(\".//poll[@name='suggested_playerage']\")[0].findall('results')[0].findall('result')\n",
    "    for response in responses:\n",
    "        poll_results[response.attrib['value']] = response.attrib['numvotes']\n",
    "\n",
    "    return list(poll_results.keys())[list(poll_results.values()).index(max(poll_results.values()))]"
   ]
  },
  {
   "cell_type": "code",
   "execution_count": 60,
   "metadata": {
    "scrolled": true
   },
   "outputs": [
    {
     "name": "stdout",
     "output_type": "stream",
     "text": [
      "['2', '3']\n",
      "10\n"
     ]
    }
   ],
   "source": [
    "#testing \n",
    "\n",
    "root = ET.fromstring(x.content)\n",
    "print(num_players(root))\n",
    "print(player_age(root))"
   ]
  },
  {
   "cell_type": "code",
   "execution_count": null,
   "metadata": {},
   "outputs": [],
   "source": []
  }
 ],
 "metadata": {
  "kernelspec": {
   "display_name": "Python 3",
   "language": "python",
   "name": "python3"
  },
  "language_info": {
   "codemirror_mode": {
    "name": "ipython",
    "version": 3
   },
   "file_extension": ".py",
   "mimetype": "text/x-python",
   "name": "python",
   "nbconvert_exporter": "python",
   "pygments_lexer": "ipython3",
   "version": "3.8.5"
  }
 },
 "nbformat": 4,
 "nbformat_minor": 4
}
