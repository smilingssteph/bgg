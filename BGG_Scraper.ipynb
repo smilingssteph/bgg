{
 "cells": [
  {
   "cell_type": "markdown",
   "metadata": {},
   "source": [
    "# Scraping Data from BGG"
   ]
  },
  {
   "cell_type": "code",
   "execution_count": 96,
   "metadata": {},
   "outputs": [],
   "source": [
    "import requests\n",
    "import xml.etree.ElementTree as ET\n",
    "import numpy as np\n",
    "import pandas as pd"
   ]
  },
  {
   "cell_type": "markdown",
   "metadata": {},
   "source": [
    "### Writing functions to parse through specific parts of the XML file"
   ]
  },
  {
   "cell_type": "code",
   "execution_count": 46,
   "metadata": {},
   "outputs": [],
   "source": [
    "def num_players(xml):\n",
    "    \"\"\"\"\n",
    "    Returns the community-recommended range of number of players.\n",
    "    \n",
    "    Paramaters:\n",
    "        poll (bytes): The content of an xml file.\n",
    "        \n",
    "    Returns:\n",
    "        list: A list with all the number of players the game is recommended for.\n",
    "    \"\"\"\n",
    "    \n",
    "    poll_results = dict()    \n",
    "    for poll in xml.findall(\".//poll[@name='suggested_numplayers']\"):\n",
    "        responses = poll.findall('results')\n",
    "        for resp in responses:\n",
    "            num_players = resp.attrib['numplayers'] \n",
    "            votes_int = [i.attrib for i in resp.findall('result')]\n",
    "            votes = [int(i['numvotes']) for i in votes_int]\n",
    "            poll_results[num_players] = votes\n",
    "    \n",
    "    rec = list()\n",
    "    \n",
    "    for key,item in poll_results.items():\n",
    "        if sum(item) != 0:\n",
    "            percentages = [i/sum(item) for i in item]\n",
    "            if percentages[0] >= 0.5 or percentages[1] >= 0.5:\n",
    "                rec.append(key)\n",
    "            \n",
    "    return rec"
   ]
  },
  {
   "cell_type": "code",
   "execution_count": 61,
   "metadata": {},
   "outputs": [],
   "source": [
    "def player_age(xml):\n",
    "    \"\"\"\n",
    "    Returns the results of the community poll asking \"what is the minimum age you recommend for this game?\"\n",
    "    \n",
    "    Parameters:\n",
    "        xml (bytes): The content of an xml file.\n",
    "    \n",
    "    Returns:\n",
    "        string: Minimum age the game is recommended for.\n",
    "    \"\"\"\n",
    "    \n",
    "    poll_results = dict()\n",
    "    responses = xml.findall(\".//poll[@name='suggested_playerage']\")[0].findall('results')[0].findall('result')\n",
    "    for response in responses:\n",
    "        poll_results[response.attrib['value']] = response.attrib['numvotes']\n",
    "\n",
    "    return list(poll_results.keys())[list(poll_results.values()).index(max(poll_results.values()))]"
   ]
  },
  {
   "cell_type": "code",
   "execution_count": 76,
   "metadata": {},
   "outputs": [],
   "source": [
    "def mechanics(xml):\n",
    "    all_mechs = dict()\n",
    "    mechs = xml.findall(\".//boardgamemechanic\")\n",
    "    for mech in mechs:\n",
    "        all_mechs[mech.attrib['objectid']] = mech.text\n",
    "    return all_mechs"
   ]
  },
  {
   "cell_type": "code",
   "execution_count": 114,
   "metadata": {},
   "outputs": [],
   "source": [
    "def category(xml):\n",
    "    all_cats = dict()\n",
    "    cats = xml.findall(\".//boardgamecategory\")\n",
    "    for cat in cats:\n",
    "        all_cats[cat.attrib['objectid']] = cat.text\n",
    "    return all_cats"
   ]
  },
  {
   "cell_type": "code",
   "execution_count": 77,
   "metadata": {
    "scrolled": true
   },
   "outputs": [
    {
     "name": "stdout",
     "output_type": "stream",
     "text": [
      "['3', '4', '5']\n",
      "8\n",
      "{'2040': 'Hand Management', '2910': 'Investment', '2900': 'Market', '2940': 'Square Grid', '2005': 'Stock Holding', '2002': 'Tile Placement', '2874': 'Victory Points as a Resource'}\n"
     ]
    }
   ],
   "source": [
    "#testing \n",
    "\n",
    "root = ET.fromstring(x.content)\n",
    "print(num_players(root))\n",
    "print(player_age(root))\n",
    "print(mechanics(root))"
   ]
  },
  {
   "cell_type": "markdown",
   "metadata": {},
   "source": [
    "### Creating dataset of all games"
   ]
  },
  {
   "cell_type": "code",
   "execution_count": 88,
   "metadata": {},
   "outputs": [
    {
     "data": {
      "text/plain": [
       "[]"
      ]
     },
     "execution_count": 88,
     "metadata": {},
     "output_type": "execute_result"
    }
   ],
   "source": [
    "x = requests.get('https://boardgamegeek.com/xmlapi/boardgame/5')\n",
    "\n",
    "root = ET.fromstring(x.content)\n",
    "root.findall(\".//error\")\n",
    "\n",
    "root.findall"
   ]
  },
  {
   "cell_type": "code",
   "execution_count": 119,
   "metadata": {},
   "outputs": [
    {
     "ename": "ParseError",
     "evalue": "mismatched tag: line 6, column 2 (<string>)",
     "output_type": "error",
     "traceback": [
      "Traceback \u001b[1;36m(most recent call last)\u001b[0m:\n",
      "  File \u001b[0;32m\"C:\\Users\\19083\\anaconda3\\lib\\site-packages\\IPython\\core\\interactiveshell.py\"\u001b[0m, line \u001b[0;32m3418\u001b[0m, in \u001b[0;35mrun_code\u001b[0m\n    exec(code_obj, self.user_global_ns, self.user_ns)\n",
      "  File \u001b[0;32m\"<ipython-input-119-cdedc4f65bbf>\"\u001b[0m, line \u001b[0;32m8\u001b[0m, in \u001b[0;35m<module>\u001b[0m\n    root = ET.fromstring(x.content)\n",
      "\u001b[1;36m  File \u001b[1;32m\"C:\\Users\\19083\\anaconda3\\lib\\xml\\etree\\ElementTree.py\"\u001b[1;36m, line \u001b[1;32m1320\u001b[1;36m, in \u001b[1;35mXML\u001b[1;36m\u001b[0m\n\u001b[1;33m    parser.feed(text)\u001b[0m\n",
      "\u001b[1;36m  File \u001b[1;32m\"<string>\"\u001b[1;36m, line \u001b[1;32munknown\u001b[0m\n\u001b[1;31mParseError\u001b[0m\u001b[1;31m:\u001b[0m mismatched tag: line 6, column 2\n"
     ]
    }
   ],
   "source": [
    "i = 1\n",
    "empty = 0\n",
    "games = pd.DataFrame()\n",
    "\n",
    "while empty < 10:\n",
    "    entry = dict()\n",
    "    x = requests.get('https://boardgamegeek.com/xmlapi/boardgame/' + str(i))\n",
    "    root = ET.fromstring(x.content)\n",
    "    if len(root.findall(\".//error\")) != 0:\n",
    "        empty += 1\n",
    "    else:\n",
    "        empty = 0 \n",
    "        name = root.findall(\".//name[@primary='true']\")[0].text\n",
    "        time = root.findall(\".//playingtime\")[0].text\n",
    "        entry = {'name':name, 'playing time':time, 'number players':num_players(root), 'min age':player_age(root), \n",
    "                'category':category(root), 'mechanics':mechanics(root)}\n",
    "        games = games.append(entry, ignore_index=True)\n",
    "    i += 1\n",
    "        \n",
    "        "
   ]
  },
  {
   "cell_type": "code",
   "execution_count": 120,
   "metadata": {},
   "outputs": [
    {
     "data": {
      "text/html": [
       "<div>\n",
       "<style scoped>\n",
       "    .dataframe tbody tr th:only-of-type {\n",
       "        vertical-align: middle;\n",
       "    }\n",
       "\n",
       "    .dataframe tbody tr th {\n",
       "        vertical-align: top;\n",
       "    }\n",
       "\n",
       "    .dataframe thead th {\n",
       "        text-align: right;\n",
       "    }\n",
       "</style>\n",
       "<table border=\"1\" class=\"dataframe\">\n",
       "  <thead>\n",
       "    <tr style=\"text-align: right;\">\n",
       "      <th></th>\n",
       "      <th>category</th>\n",
       "      <th>mechanics</th>\n",
       "      <th>min age</th>\n",
       "      <th>name</th>\n",
       "      <th>number players</th>\n",
       "      <th>playing time</th>\n",
       "    </tr>\n",
       "  </thead>\n",
       "  <tbody>\n",
       "    <tr>\n",
       "      <th>0</th>\n",
       "      <td>{'1021': 'Economic', '1026': 'Negotiation', '1...</td>\n",
       "      <td>{'2916': 'Alliances', '2080': 'Area Majority /...</td>\n",
       "      <td>12</td>\n",
       "      <td>Die Macher</td>\n",
       "      <td>[4, 5]</td>\n",
       "      <td>240</td>\n",
       "    </tr>\n",
       "    <tr>\n",
       "      <th>1</th>\n",
       "      <td>{'1002': 'Card Game', '1010': 'Fantasy'}</td>\n",
       "      <td>{'2009': 'Trick-taking'}</td>\n",
       "      <td>2</td>\n",
       "      <td>Dragonmaster</td>\n",
       "      <td>[3, 4]</td>\n",
       "      <td>30</td>\n",
       "    </tr>\n",
       "    <tr>\n",
       "      <th>2</th>\n",
       "      <td>{'1009': 'Abstract Strategy', '1035': 'Medieval'}</td>\n",
       "      <td>{'2080': 'Area Majority / Influence', '2040': ...</td>\n",
       "      <td>6</td>\n",
       "      <td>Samurai</td>\n",
       "      <td>[2, 3, 4]</td>\n",
       "      <td>60</td>\n",
       "    </tr>\n",
       "    <tr>\n",
       "      <th>3</th>\n",
       "      <td>{'1050': 'Ancient'}</td>\n",
       "      <td>{'2001': 'Action Points', '2080': 'Area Majori...</td>\n",
       "      <td>12</td>\n",
       "      <td>Tal der Könige</td>\n",
       "      <td>[2, 3, 4]</td>\n",
       "      <td>60</td>\n",
       "    </tr>\n",
       "    <tr>\n",
       "      <th>4</th>\n",
       "      <td>{'1021': 'Economic', '1086': 'Territory Buildi...</td>\n",
       "      <td>{'2040': 'Hand Management', '2910': 'Investmen...</td>\n",
       "      <td>8</td>\n",
       "      <td>Acquire</td>\n",
       "      <td>[3, 4, 5]</td>\n",
       "      <td>90</td>\n",
       "    </tr>\n",
       "    <tr>\n",
       "      <th>...</th>\n",
       "      <td>...</td>\n",
       "      <td>...</td>\n",
       "      <td>...</td>\n",
       "      <td>...</td>\n",
       "      <td>...</td>\n",
       "      <td>...</td>\n",
       "    </tr>\n",
       "    <tr>\n",
       "      <th>225</th>\n",
       "      <td>{'1023': 'Bluffing', '1026': 'Negotiation', '1...</td>\n",
       "      <td>{'2080': 'Area Majority / Influence', '2046': ...</td>\n",
       "      <td>12</td>\n",
       "      <td>Colonial Diplomacy</td>\n",
       "      <td>[6, 7]</td>\n",
       "      <td>360</td>\n",
       "    </tr>\n",
       "    <tr>\n",
       "      <th>226</th>\n",
       "      <td>{'1051': 'Napoleonic', '1019': 'Wargame'}</td>\n",
       "      <td>{'2072': 'Dice Rolling', '2026': 'Hexagon Grid...</td>\n",
       "      <td>2</td>\n",
       "      <td>The Battle of Borodino: Napoleon in Russia 1812</td>\n",
       "      <td>[1, 2]</td>\n",
       "      <td>180</td>\n",
       "    </tr>\n",
       "    <tr>\n",
       "      <th>227</th>\n",
       "      <td>{'1021': 'Economic', '1051': 'Napoleonic', '10...</td>\n",
       "      <td>{'2046': 'Area Movement', '2072': 'Dice Rollin...</td>\n",
       "      <td>18</td>\n",
       "      <td>Empires in Arms</td>\n",
       "      <td>[5, 6, 7]</td>\n",
       "      <td>12000</td>\n",
       "    </tr>\n",
       "    <tr>\n",
       "      <th>228</th>\n",
       "      <td>{'1051': 'Napoleonic', '1019': 'Wargame'}</td>\n",
       "      <td>{'2026': 'Hexagon Grid'}</td>\n",
       "      <td>8</td>\n",
       "      <td>Jena-Auerstadt: The Battle for Prussia</td>\n",
       "      <td>[1, 2]</td>\n",
       "      <td>150</td>\n",
       "    </tr>\n",
       "    <tr>\n",
       "      <th>229</th>\n",
       "      <td>{'1008': 'Nautical', '1011': 'Transportation'}</td>\n",
       "      <td>{'2676': 'Grid Movement', '2959': 'Map Additio...</td>\n",
       "      <td>10</td>\n",
       "      <td>Mississippi Queen</td>\n",
       "      <td>[3, 4, 5]</td>\n",
       "      <td>45</td>\n",
       "    </tr>\n",
       "  </tbody>\n",
       "</table>\n",
       "<p>230 rows × 6 columns</p>\n",
       "</div>"
      ],
      "text/plain": [
       "                                              category  \\\n",
       "0    {'1021': 'Economic', '1026': 'Negotiation', '1...   \n",
       "1             {'1002': 'Card Game', '1010': 'Fantasy'}   \n",
       "2    {'1009': 'Abstract Strategy', '1035': 'Medieval'}   \n",
       "3                                  {'1050': 'Ancient'}   \n",
       "4    {'1021': 'Economic', '1086': 'Territory Buildi...   \n",
       "..                                                 ...   \n",
       "225  {'1023': 'Bluffing', '1026': 'Negotiation', '1...   \n",
       "226          {'1051': 'Napoleonic', '1019': 'Wargame'}   \n",
       "227  {'1021': 'Economic', '1051': 'Napoleonic', '10...   \n",
       "228          {'1051': 'Napoleonic', '1019': 'Wargame'}   \n",
       "229     {'1008': 'Nautical', '1011': 'Transportation'}   \n",
       "\n",
       "                                             mechanics min age  \\\n",
       "0    {'2916': 'Alliances', '2080': 'Area Majority /...      12   \n",
       "1                             {'2009': 'Trick-taking'}       2   \n",
       "2    {'2080': 'Area Majority / Influence', '2040': ...       6   \n",
       "3    {'2001': 'Action Points', '2080': 'Area Majori...      12   \n",
       "4    {'2040': 'Hand Management', '2910': 'Investmen...       8   \n",
       "..                                                 ...     ...   \n",
       "225  {'2080': 'Area Majority / Influence', '2046': ...      12   \n",
       "226  {'2072': 'Dice Rolling', '2026': 'Hexagon Grid...       2   \n",
       "227  {'2046': 'Area Movement', '2072': 'Dice Rollin...      18   \n",
       "228                           {'2026': 'Hexagon Grid'}       8   \n",
       "229  {'2676': 'Grid Movement', '2959': 'Map Additio...      10   \n",
       "\n",
       "                                                name number players  \\\n",
       "0                                         Die Macher         [4, 5]   \n",
       "1                                       Dragonmaster         [3, 4]   \n",
       "2                                            Samurai      [2, 3, 4]   \n",
       "3                                     Tal der Könige      [2, 3, 4]   \n",
       "4                                            Acquire      [3, 4, 5]   \n",
       "..                                               ...            ...   \n",
       "225                               Colonial Diplomacy         [6, 7]   \n",
       "226  The Battle of Borodino: Napoleon in Russia 1812         [1, 2]   \n",
       "227                                  Empires in Arms      [5, 6, 7]   \n",
       "228           Jena-Auerstadt: The Battle for Prussia         [1, 2]   \n",
       "229                                Mississippi Queen      [3, 4, 5]   \n",
       "\n",
       "    playing time  \n",
       "0            240  \n",
       "1             30  \n",
       "2             60  \n",
       "3             60  \n",
       "4             90  \n",
       "..           ...  \n",
       "225          360  \n",
       "226          180  \n",
       "227        12000  \n",
       "228          150  \n",
       "229           45  \n",
       "\n",
       "[230 rows x 6 columns]"
      ]
     },
     "execution_count": 120,
     "metadata": {},
     "output_type": "execute_result"
    }
   ],
   "source": [
    "games"
   ]
  }
 ],
 "metadata": {
  "kernelspec": {
   "display_name": "Python 3",
   "language": "python",
   "name": "python3"
  },
  "language_info": {
   "codemirror_mode": {
    "name": "ipython",
    "version": 3
   },
   "file_extension": ".py",
   "mimetype": "text/x-python",
   "name": "python",
   "nbconvert_exporter": "python",
   "pygments_lexer": "ipython3",
   "version": "3.8.5"
  }
 },
 "nbformat": 4,
 "nbformat_minor": 4
}
