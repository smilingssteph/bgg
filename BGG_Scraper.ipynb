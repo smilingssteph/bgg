{
 "cells": [
  {
   "cell_type": "markdown",
   "metadata": {},
   "source": [
    "# Scraping Data from BGG"
   ]
  },
  {
   "cell_type": "code",
   "execution_count": 1,
   "metadata": {},
   "outputs": [],
   "source": [
    "import requests\n",
    "import xml.etree.ElementTree as ET"
   ]
  },
  {
   "cell_type": "code",
   "execution_count": 2,
   "metadata": {},
   "outputs": [
    {
     "data": {
      "text/plain": [
       "200"
      ]
     },
     "execution_count": 2,
     "metadata": {},
     "output_type": "execute_result"
    }
   ],
   "source": [
    "response = requests.get('https://boardgamegeek.com/xmlapi/boardgame/133')\n",
    "response.status_code"
   ]
  },
  {
   "cell_type": "markdown",
   "metadata": {},
   "source": [
    "### Writing a function to parse through XML file"
   ]
  },
  {
   "cell_type": "code",
   "execution_count": 10,
   "metadata": {},
   "outputs": [],
   "source": [
    "def community_num_players(xml):\n",
    "    \"\"\"\"\n",
    "    Returns the community-recommended range of number of players.\n",
    "    \n",
    "    Paramaters:\n",
    "        poll (bytes): The content of an xml file.\n",
    "        \n",
    "    Returns:\n",
    "        list: A list with all the number of players the game is recommended for.\n",
    "    \"\"\"\n",
    "    \n",
    "    poll_results = dict()    \n",
    "    for poll in xml.findall(\".//poll[@name='suggested_numplayers']\"):\n",
    "        responses = poll.findall('results')\n",
    "        for resp in responses:\n",
    "            num_players = resp.attrib['numplayers'] \n",
    "            votes_int = [i.attrib for i in resp.findall('result')]\n",
    "            votes = [int(i['numvotes']) for i in votes_int]\n",
    "            poll_results[num_players] = votes\n",
    "    \n",
    "    rec = list()\n",
    "    for key,item in poll_results.items():\n",
    "        percentages = [i/sum(item) for i in item]\n",
    "        if percentages[0] >= 0.5 or percentages[1] >= 0.5:\n",
    "            rec.append(key)\n",
    "            \n",
    "    return rec"
   ]
  },
  {
   "cell_type": "code",
   "execution_count": null,
   "metadata": {},
   "outputs": [],
   "source": [
    "def poll_lang_dep(xml):\n",
    "    \"\"\"\n",
    "    Returns the results of the community poll asking \"for those who do not speak the language in which this game is published, \n",
    "    how language-dependent are the components?\"\n",
    "    \n",
    "    Parameters:\n",
    "        xml (bytes): The content of an xml file.\n",
    "    \n",
    "    Returns:\n",
    "        dict: Number of votes for each player count.\n",
    "    \"\"\"\n",
    "    poll"
   ]
  },
  {
   "cell_type": "code",
   "execution_count": 11,
   "metadata": {
    "scrolled": true
   },
   "outputs": [
    {
     "data": {
      "text/plain": [
       "['3', '4', '5', '6']"
      ]
     },
     "execution_count": 11,
     "metadata": {},
     "output_type": "execute_result"
    }
   ],
   "source": [
    "#testing \n",
    "\n",
    "root = ET.fromstring(response.content)\n",
    "community_num_players(root)"
   ]
  },
  {
   "cell_type": "code",
   "execution_count": null,
   "metadata": {},
   "outputs": [],
   "source": []
  }
 ],
 "metadata": {
  "kernelspec": {
   "display_name": "Python 3",
   "language": "python",
   "name": "python3"
  },
  "language_info": {
   "codemirror_mode": {
    "name": "ipython",
    "version": 3
   },
   "file_extension": ".py",
   "mimetype": "text/x-python",
   "name": "python",
   "nbconvert_exporter": "python",
   "pygments_lexer": "ipython3",
   "version": "3.8.5"
  }
 },
 "nbformat": 4,
 "nbformat_minor": 4
}
